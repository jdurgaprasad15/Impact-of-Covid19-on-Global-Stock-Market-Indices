{
  "nbformat": 4,
  "nbformat_minor": 0,
  "metadata": {
    "colab": {
      "name": "Total Project - Impact of Covid19 on Global Stock Market",
      "provenance": [],
      "collapsed_sections": []
    },
    "kernelspec": {
      "name": "python3",
      "display_name": "Python 3"
    }
  },
  "cells": [
    {
      "cell_type": "markdown",
      "metadata": {
        "id": "s6IrKfBqWkM5"
      },
      "source": [
        "**Importing Libraries**"
      ]
    },
    {
      "cell_type": "code",
      "metadata": {
        "id": "FBm8Mj6UkigI"
      },
      "source": [
        "import pandas as pd\n",
        "import numpy as np\n",
        "import matplotlib.pyplot as plt"
      ],
      "execution_count": null,
      "outputs": []
    },
    {
      "cell_type": "code",
      "metadata": {
        "id": "PjWWJ8LjCZSx"
      },
      "source": [
        "data=pd.read_csv('/content/GOOG.csv')"
      ],
      "execution_count": null,
      "outputs": []
    },
    {
      "cell_type": "code",
      "metadata": {
        "id": "DVYLrtnTCehC",
        "colab": {
          "base_uri": "https://localhost:8080/",
          "height": 402
        },
        "outputId": "107bc355-b8b3-4844-87c4-d43eff8a1b1c"
      },
      "source": [
        "data"
      ],
      "execution_count": null,
      "outputs": [
        {
          "output_type": "execute_result",
          "data": {
            "text/html": [
              "<div>\n",
              "<style scoped>\n",
              "    .dataframe tbody tr th:only-of-type {\n",
              "        vertical-align: middle;\n",
              "    }\n",
              "\n",
              "    .dataframe tbody tr th {\n",
              "        vertical-align: top;\n",
              "    }\n",
              "\n",
              "    .dataframe thead th {\n",
              "        text-align: right;\n",
              "    }\n",
              "</style>\n",
              "<table border=\"1\" class=\"dataframe\">\n",
              "  <thead>\n",
              "    <tr style=\"text-align: right;\">\n",
              "      <th></th>\n",
              "      <th>Date</th>\n",
              "      <th>Open</th>\n",
              "      <th>High</th>\n",
              "      <th>Low</th>\n",
              "      <th>Close</th>\n",
              "      <th>Adj Close</th>\n",
              "      <th>Volume</th>\n",
              "    </tr>\n",
              "  </thead>\n",
              "  <tbody>\n",
              "    <tr>\n",
              "      <th>0</th>\n",
              "      <td>2020-01-02</td>\n",
              "      <td>1341.550049</td>\n",
              "      <td>1368.140015</td>\n",
              "      <td>1341.550049</td>\n",
              "      <td>1367.369995</td>\n",
              "      <td>1367.369995</td>\n",
              "      <td>1406600</td>\n",
              "    </tr>\n",
              "    <tr>\n",
              "      <th>1</th>\n",
              "      <td>2020-01-03</td>\n",
              "      <td>1347.859985</td>\n",
              "      <td>1372.500000</td>\n",
              "      <td>1345.543945</td>\n",
              "      <td>1360.660034</td>\n",
              "      <td>1360.660034</td>\n",
              "      <td>1186400</td>\n",
              "    </tr>\n",
              "    <tr>\n",
              "      <th>2</th>\n",
              "      <td>2020-01-06</td>\n",
              "      <td>1350.000000</td>\n",
              "      <td>1396.500000</td>\n",
              "      <td>1350.000000</td>\n",
              "      <td>1394.209961</td>\n",
              "      <td>1394.209961</td>\n",
              "      <td>1732300</td>\n",
              "    </tr>\n",
              "    <tr>\n",
              "      <th>3</th>\n",
              "      <td>2020-01-07</td>\n",
              "      <td>1397.939941</td>\n",
              "      <td>1402.989990</td>\n",
              "      <td>1390.380005</td>\n",
              "      <td>1393.339966</td>\n",
              "      <td>1393.339966</td>\n",
              "      <td>1502700</td>\n",
              "    </tr>\n",
              "    <tr>\n",
              "      <th>4</th>\n",
              "      <td>2020-01-08</td>\n",
              "      <td>1392.079956</td>\n",
              "      <td>1411.579956</td>\n",
              "      <td>1390.839966</td>\n",
              "      <td>1404.319946</td>\n",
              "      <td>1404.319946</td>\n",
              "      <td>1528000</td>\n",
              "    </tr>\n",
              "    <tr>\n",
              "      <th>...</th>\n",
              "      <td>...</td>\n",
              "      <td>...</td>\n",
              "      <td>...</td>\n",
              "      <td>...</td>\n",
              "      <td>...</td>\n",
              "      <td>...</td>\n",
              "      <td>...</td>\n",
              "    </tr>\n",
              "    <tr>\n",
              "      <th>225</th>\n",
              "      <td>2020-11-20</td>\n",
              "      <td>1765.209961</td>\n",
              "      <td>1774.000000</td>\n",
              "      <td>1741.859985</td>\n",
              "      <td>1742.189941</td>\n",
              "      <td>1742.189941</td>\n",
              "      <td>2313500</td>\n",
              "    </tr>\n",
              "    <tr>\n",
              "      <th>226</th>\n",
              "      <td>2020-11-23</td>\n",
              "      <td>1749.599976</td>\n",
              "      <td>1753.900024</td>\n",
              "      <td>1717.719971</td>\n",
              "      <td>1734.859985</td>\n",
              "      <td>1734.859985</td>\n",
              "      <td>2161600</td>\n",
              "    </tr>\n",
              "    <tr>\n",
              "      <th>227</th>\n",
              "      <td>2020-11-24</td>\n",
              "      <td>1730.500000</td>\n",
              "      <td>1771.599976</td>\n",
              "      <td>1727.689941</td>\n",
              "      <td>1768.880005</td>\n",
              "      <td>1768.880005</td>\n",
              "      <td>1578000</td>\n",
              "    </tr>\n",
              "    <tr>\n",
              "      <th>228</th>\n",
              "      <td>2020-11-25</td>\n",
              "      <td>1772.890015</td>\n",
              "      <td>1778.540039</td>\n",
              "      <td>1756.540039</td>\n",
              "      <td>1771.430054</td>\n",
              "      <td>1771.430054</td>\n",
              "      <td>1045800</td>\n",
              "    </tr>\n",
              "    <tr>\n",
              "      <th>229</th>\n",
              "      <td>2020-11-27</td>\n",
              "      <td>1773.089966</td>\n",
              "      <td>1804.000000</td>\n",
              "      <td>1772.439941</td>\n",
              "      <td>1793.189941</td>\n",
              "      <td>1793.189941</td>\n",
              "      <td>884900</td>\n",
              "    </tr>\n",
              "  </tbody>\n",
              "</table>\n",
              "<p>230 rows × 7 columns</p>\n",
              "</div>"
            ],
            "text/plain": [
              "           Date         Open         High  ...        Close    Adj Close   Volume\n",
              "0    2020-01-02  1341.550049  1368.140015  ...  1367.369995  1367.369995  1406600\n",
              "1    2020-01-03  1347.859985  1372.500000  ...  1360.660034  1360.660034  1186400\n",
              "2    2020-01-06  1350.000000  1396.500000  ...  1394.209961  1394.209961  1732300\n",
              "3    2020-01-07  1397.939941  1402.989990  ...  1393.339966  1393.339966  1502700\n",
              "4    2020-01-08  1392.079956  1411.579956  ...  1404.319946  1404.319946  1528000\n",
              "..          ...          ...          ...  ...          ...          ...      ...\n",
              "225  2020-11-20  1765.209961  1774.000000  ...  1742.189941  1742.189941  2313500\n",
              "226  2020-11-23  1749.599976  1753.900024  ...  1734.859985  1734.859985  2161600\n",
              "227  2020-11-24  1730.500000  1771.599976  ...  1768.880005  1768.880005  1578000\n",
              "228  2020-11-25  1772.890015  1778.540039  ...  1771.430054  1771.430054  1045800\n",
              "229  2020-11-27  1773.089966  1804.000000  ...  1793.189941  1793.189941   884900\n",
              "\n",
              "[230 rows x 7 columns]"
            ]
          },
          "metadata": {
            "tags": []
          },
          "execution_count": 3
        }
      ]
    },
    {
      "cell_type": "markdown",
      "metadata": {
        "id": "gla5MSFSWw2y"
      },
      "source": [
        "**Stastical Discription of Data**"
      ]
    },
    {
      "cell_type": "code",
      "metadata": {
        "id": "SdxzSIXwCfJL",
        "colab": {
          "base_uri": "https://localhost:8080/",
          "height": 284
        },
        "outputId": "1a0e6398-f219-4f31-995b-4daef295e919"
      },
      "source": [
        "data.describe()"
      ],
      "execution_count": null,
      "outputs": [
        {
          "output_type": "execute_result",
          "data": {
            "text/html": [
              "<div>\n",
              "<style scoped>\n",
              "    .dataframe tbody tr th:only-of-type {\n",
              "        vertical-align: middle;\n",
              "    }\n",
              "\n",
              "    .dataframe tbody tr th {\n",
              "        vertical-align: top;\n",
              "    }\n",
              "\n",
              "    .dataframe thead th {\n",
              "        text-align: right;\n",
              "    }\n",
              "</style>\n",
              "<table border=\"1\" class=\"dataframe\">\n",
              "  <thead>\n",
              "    <tr style=\"text-align: right;\">\n",
              "      <th></th>\n",
              "      <th>Open</th>\n",
              "      <th>High</th>\n",
              "      <th>Low</th>\n",
              "      <th>Close</th>\n",
              "      <th>Adj Close</th>\n",
              "      <th>Volume</th>\n",
              "    </tr>\n",
              "  </thead>\n",
              "  <tbody>\n",
              "    <tr>\n",
              "      <th>count</th>\n",
              "      <td>230.000000</td>\n",
              "      <td>230.000000</td>\n",
              "      <td>230.000000</td>\n",
              "      <td>230.000000</td>\n",
              "      <td>230.000000</td>\n",
              "      <td>2.300000e+02</td>\n",
              "    </tr>\n",
              "    <tr>\n",
              "      <th>mean</th>\n",
              "      <td>1450.310027</td>\n",
              "      <td>1470.265409</td>\n",
              "      <td>1432.732783</td>\n",
              "      <td>1452.366540</td>\n",
              "      <td>1452.366540</td>\n",
              "      <td>1.936292e+06</td>\n",
              "    </tr>\n",
              "    <tr>\n",
              "      <th>std</th>\n",
              "      <td>157.611745</td>\n",
              "      <td>155.874969</td>\n",
              "      <td>160.066582</td>\n",
              "      <td>157.004025</td>\n",
              "      <td>157.004025</td>\n",
              "      <td>7.657961e+05</td>\n",
              "    </tr>\n",
              "    <tr>\n",
              "      <th>min</th>\n",
              "      <td>1056.510010</td>\n",
              "      <td>1071.319946</td>\n",
              "      <td>1013.536011</td>\n",
              "      <td>1056.619995</td>\n",
              "      <td>1056.619995</td>\n",
              "      <td>8.849000e+05</td>\n",
              "    </tr>\n",
              "    <tr>\n",
              "      <th>25%</th>\n",
              "      <td>1379.492523</td>\n",
              "      <td>1397.065002</td>\n",
              "      <td>1354.505005</td>\n",
              "      <td>1386.982514</td>\n",
              "      <td>1386.982514</td>\n",
              "      <td>1.424925e+06</td>\n",
              "    </tr>\n",
              "    <tr>\n",
              "      <th>50%</th>\n",
              "      <td>1462.015015</td>\n",
              "      <td>1476.302002</td>\n",
              "      <td>1446.580017</td>\n",
              "      <td>1462.350036</td>\n",
              "      <td>1462.350036</td>\n",
              "      <td>1.693850e+06</td>\n",
              "    </tr>\n",
              "    <tr>\n",
              "      <th>75%</th>\n",
              "      <td>1525.930054</td>\n",
              "      <td>1561.837494</td>\n",
              "      <td>1514.112488</td>\n",
              "      <td>1525.522461</td>\n",
              "      <td>1525.522461</td>\n",
              "      <td>2.245750e+06</td>\n",
              "    </tr>\n",
              "    <tr>\n",
              "      <th>max</th>\n",
              "      <td>1790.900024</td>\n",
              "      <td>1818.060059</td>\n",
              "      <td>1772.439941</td>\n",
              "      <td>1793.189941</td>\n",
              "      <td>1793.189941</td>\n",
              "      <td>4.329100e+06</td>\n",
              "    </tr>\n",
              "  </tbody>\n",
              "</table>\n",
              "</div>"
            ],
            "text/plain": [
              "              Open         High  ...    Adj Close        Volume\n",
              "count   230.000000   230.000000  ...   230.000000  2.300000e+02\n",
              "mean   1450.310027  1470.265409  ...  1452.366540  1.936292e+06\n",
              "std     157.611745   155.874969  ...   157.004025  7.657961e+05\n",
              "min    1056.510010  1071.319946  ...  1056.619995  8.849000e+05\n",
              "25%    1379.492523  1397.065002  ...  1386.982514  1.424925e+06\n",
              "50%    1462.015015  1476.302002  ...  1462.350036  1.693850e+06\n",
              "75%    1525.930054  1561.837494  ...  1525.522461  2.245750e+06\n",
              "max    1790.900024  1818.060059  ...  1793.189941  4.329100e+06\n",
              "\n",
              "[8 rows x 6 columns]"
            ]
          },
          "metadata": {
            "tags": []
          },
          "execution_count": 4
        }
      ]
    },
    {
      "cell_type": "code",
      "metadata": {
        "id": "J9mkGHTlU3vi"
      },
      "source": [
        "from sklearn.model_selection import train_test_split\n",
        "from sklearn.linear_model import LinearRegression\n",
        "from sklearn.preprocessing import LabelEncoder\n",
        "from sklearn.metrics import mean_squared_error"
      ],
      "execution_count": null,
      "outputs": []
    },
    {
      "cell_type": "code",
      "metadata": {
        "colab": {
          "base_uri": "https://localhost:8080/"
        },
        "id": "v_JK2qdTWUiS",
        "outputId": "3f31bd8e-c1ce-4d4b-93bd-0e8d884a1519"
      },
      "source": [
        "data = data.drop('Date',axis=1) \n",
        "data = data.drop('Adj Close',axis = 1)\n",
        "print('\\n\\nData after removing Date and Adj Close : ')\n",
        "print(data.head())"
      ],
      "execution_count": null,
      "outputs": [
        {
          "output_type": "stream",
          "text": [
            "\n",
            "\n",
            "Data after removing Date and Adj Close : \n",
            "          Open         High          Low        Close   Volume\n",
            "0  1341.550049  1368.140015  1341.550049  1367.369995  1406600\n",
            "1  1347.859985  1372.500000  1345.543945  1360.660034  1186400\n",
            "2  1350.000000  1396.500000  1350.000000  1394.209961  1732300\n",
            "3  1397.939941  1402.989990  1390.380005  1393.339966  1502700\n",
            "4  1392.079956  1411.579956  1390.839966  1404.319946  1528000\n"
          ],
          "name": "stdout"
        }
      ]
    },
    {
      "cell_type": "code",
      "metadata": {
        "colab": {
          "base_uri": "https://localhost:8080/",
          "height": 402
        },
        "id": "lNuCopEEZf2S",
        "outputId": "34302e92-0644-4288-82e7-1ee6ef2086f5"
      },
      "source": [
        "data"
      ],
      "execution_count": null,
      "outputs": [
        {
          "output_type": "execute_result",
          "data": {
            "text/html": [
              "<div>\n",
              "<style scoped>\n",
              "    .dataframe tbody tr th:only-of-type {\n",
              "        vertical-align: middle;\n",
              "    }\n",
              "\n",
              "    .dataframe tbody tr th {\n",
              "        vertical-align: top;\n",
              "    }\n",
              "\n",
              "    .dataframe thead th {\n",
              "        text-align: right;\n",
              "    }\n",
              "</style>\n",
              "<table border=\"1\" class=\"dataframe\">\n",
              "  <thead>\n",
              "    <tr style=\"text-align: right;\">\n",
              "      <th></th>\n",
              "      <th>Open</th>\n",
              "      <th>High</th>\n",
              "      <th>Low</th>\n",
              "      <th>Close</th>\n",
              "      <th>Volume</th>\n",
              "    </tr>\n",
              "  </thead>\n",
              "  <tbody>\n",
              "    <tr>\n",
              "      <th>0</th>\n",
              "      <td>1341.550049</td>\n",
              "      <td>1368.140015</td>\n",
              "      <td>1341.550049</td>\n",
              "      <td>1367.369995</td>\n",
              "      <td>1406600</td>\n",
              "    </tr>\n",
              "    <tr>\n",
              "      <th>1</th>\n",
              "      <td>1347.859985</td>\n",
              "      <td>1372.500000</td>\n",
              "      <td>1345.543945</td>\n",
              "      <td>1360.660034</td>\n",
              "      <td>1186400</td>\n",
              "    </tr>\n",
              "    <tr>\n",
              "      <th>2</th>\n",
              "      <td>1350.000000</td>\n",
              "      <td>1396.500000</td>\n",
              "      <td>1350.000000</td>\n",
              "      <td>1394.209961</td>\n",
              "      <td>1732300</td>\n",
              "    </tr>\n",
              "    <tr>\n",
              "      <th>3</th>\n",
              "      <td>1397.939941</td>\n",
              "      <td>1402.989990</td>\n",
              "      <td>1390.380005</td>\n",
              "      <td>1393.339966</td>\n",
              "      <td>1502700</td>\n",
              "    </tr>\n",
              "    <tr>\n",
              "      <th>4</th>\n",
              "      <td>1392.079956</td>\n",
              "      <td>1411.579956</td>\n",
              "      <td>1390.839966</td>\n",
              "      <td>1404.319946</td>\n",
              "      <td>1528000</td>\n",
              "    </tr>\n",
              "    <tr>\n",
              "      <th>...</th>\n",
              "      <td>...</td>\n",
              "      <td>...</td>\n",
              "      <td>...</td>\n",
              "      <td>...</td>\n",
              "      <td>...</td>\n",
              "    </tr>\n",
              "    <tr>\n",
              "      <th>225</th>\n",
              "      <td>1765.209961</td>\n",
              "      <td>1774.000000</td>\n",
              "      <td>1741.859985</td>\n",
              "      <td>1742.189941</td>\n",
              "      <td>2313500</td>\n",
              "    </tr>\n",
              "    <tr>\n",
              "      <th>226</th>\n",
              "      <td>1749.599976</td>\n",
              "      <td>1753.900024</td>\n",
              "      <td>1717.719971</td>\n",
              "      <td>1734.859985</td>\n",
              "      <td>2161600</td>\n",
              "    </tr>\n",
              "    <tr>\n",
              "      <th>227</th>\n",
              "      <td>1730.500000</td>\n",
              "      <td>1771.599976</td>\n",
              "      <td>1727.689941</td>\n",
              "      <td>1768.880005</td>\n",
              "      <td>1578000</td>\n",
              "    </tr>\n",
              "    <tr>\n",
              "      <th>228</th>\n",
              "      <td>1772.890015</td>\n",
              "      <td>1778.540039</td>\n",
              "      <td>1756.540039</td>\n",
              "      <td>1771.430054</td>\n",
              "      <td>1045800</td>\n",
              "    </tr>\n",
              "    <tr>\n",
              "      <th>229</th>\n",
              "      <td>1773.089966</td>\n",
              "      <td>1804.000000</td>\n",
              "      <td>1772.439941</td>\n",
              "      <td>1793.189941</td>\n",
              "      <td>884900</td>\n",
              "    </tr>\n",
              "  </tbody>\n",
              "</table>\n",
              "<p>230 rows × 5 columns</p>\n",
              "</div>"
            ],
            "text/plain": [
              "            Open         High          Low        Close   Volume\n",
              "0    1341.550049  1368.140015  1341.550049  1367.369995  1406600\n",
              "1    1347.859985  1372.500000  1345.543945  1360.660034  1186400\n",
              "2    1350.000000  1396.500000  1350.000000  1394.209961  1732300\n",
              "3    1397.939941  1402.989990  1390.380005  1393.339966  1502700\n",
              "4    1392.079956  1411.579956  1390.839966  1404.319946  1528000\n",
              "..           ...          ...          ...          ...      ...\n",
              "225  1765.209961  1774.000000  1741.859985  1742.189941  2313500\n",
              "226  1749.599976  1753.900024  1717.719971  1734.859985  2161600\n",
              "227  1730.500000  1771.599976  1727.689941  1768.880005  1578000\n",
              "228  1772.890015  1778.540039  1756.540039  1771.430054  1045800\n",
              "229  1773.089966  1804.000000  1772.439941  1793.189941   884900\n",
              "\n",
              "[230 rows x 5 columns]"
            ]
          },
          "metadata": {
            "tags": []
          },
          "execution_count": 6
        }
      ]
    },
    {
      "cell_type": "markdown",
      "metadata": {
        "id": "HqCYNobjWqGb"
      },
      "source": [
        "**Splitting the Data into Training and Testing**"
      ]
    },
    {
      "cell_type": "code",
      "metadata": {
        "id": "l5KEB0zSWmbB",
        "colab": {
          "base_uri": "https://localhost:8080/"
        },
        "outputId": "ff024c77-e6a3-46db-ddb9-fa43c71ff24f"
      },
      "source": [
        "#Split into train and test data\n",
        "data_X = data.loc[:,data.columns !=  'Close' ]\n",
        "data_Y = data['Close']\n",
        "train_X, test_X, train_y,test_y = train_test_split(data_X,data_Y,test_size=0.25)\n",
        "print(train_X.head())\n",
        "print(test_X.head())\n",
        "print(train_y.head())\n",
        "print(test_y.head())"
      ],
      "execution_count": null,
      "outputs": [
        {
          "output_type": "stream",
          "text": [
            "            Open         High          Low   Volume\n",
            "152  1487.180054  1504.074951  1473.079956  1289300\n",
            "174  1560.640015  1584.081055  1525.805054  1618600\n",
            "209  1522.359985  1593.709961  1522.239990  2003100\n",
            "107  1413.170044  1445.050049  1406.000000  1734900\n",
            "192  1475.579956  1486.760010  1448.589966  1245400\n",
            "            Open         High          Low   Volume\n",
            "50   1096.000000  1152.266968  1074.439941  4252400\n",
            "59   1125.670044  1150.670044  1105.910034  3208500\n",
            "199  1547.150024  1575.104980  1545.030029  1540000\n",
            "116  1449.160034  1451.410034  1427.010010  1581900\n",
            "148  1476.569946  1485.560059  1458.650024  1903500\n",
            "152    1496.099976\n",
            "174    1532.020020\n",
            "209    1567.239990\n",
            "107    1438.390015\n",
            "192    1453.439941\n",
            "Name: Close, dtype: float64\n",
            "50     1084.329956\n",
            "59     1110.709961\n",
            "199    1559.130005\n",
            "116    1435.959961\n",
            "148    1464.969971\n",
            "Name: Close, dtype: float64\n"
          ],
          "name": "stdout"
        }
      ]
    },
    {
      "cell_type": "code",
      "metadata": {
        "id": "aZvJDKi0BPKs"
      },
      "source": [
        "\r\n",
        "data.dropna(inplace = True) \r\n",
        "   \r\n",
        "# creating DataFrame form weight column \r\n",
        "gfg = pd.DataFrame(test_y) \r\n",
        "   \r\n",
        "# using to_numpy() function \r\n",
        "orginal_y=gfg.to_numpy()"
      ],
      "execution_count": null,
      "outputs": []
    },
    {
      "cell_type": "code",
      "metadata": {
        "colab": {
          "base_uri": "https://localhost:8080/"
        },
        "id": "nk2qJ2XLBjHq",
        "outputId": "0b037752-c882-48bc-b4ec-bc18d5dfc2c5"
      },
      "source": [
        "orginal_y"
      ],
      "execution_count": null,
      "outputs": [
        {
          "output_type": "execute_result",
          "data": {
            "text/plain": [
              "array([[1084.329956],\n",
              "       [1110.709961],\n",
              "       [1559.130005],\n",
              "       [1435.959961],\n",
              "       [1464.969971],\n",
              "       [1134.459961],\n",
              "       [1433.900024],\n",
              "       [1375.73999 ],\n",
              "       [1444.959961],\n",
              "       [1641.      ],\n",
              "       [1534.609985],\n",
              "       [1348.660034],\n",
              "       [1465.849976],\n",
              "       [1530.199951],\n",
              "       [1406.719971],\n",
              "       [1516.619995],\n",
              "       [1413.609985],\n",
              "       [1465.459961],\n",
              "       [1580.420044],\n",
              "       [1356.130005],\n",
              "       [1522.02002 ],\n",
              "       [1480.390015],\n",
              "       [1215.560059],\n",
              "       [1508.680054],\n",
              "       [1474.449951],\n",
              "       [1339.329956],\n",
              "       [1210.280029],\n",
              "       [1394.969971],\n",
              "       [1558.599976],\n",
              "       [1341.47998 ],\n",
              "       [1573.01001 ],\n",
              "       [1403.839966],\n",
              "       [1777.02002 ],\n",
              "       [1588.199951],\n",
              "       [1146.819946],\n",
              "       [1451.119995],\n",
              "       [1634.329956],\n",
              "       [1763.      ],\n",
              "       [1119.800049],\n",
              "       [1734.859985],\n",
              "       [1373.484985],\n",
              "       [1460.290039],\n",
              "       [1416.72998 ],\n",
              "       [1473.609985],\n",
              "       [1283.25    ],\n",
              "       [1434.22998 ],\n",
              "       [1097.880005],\n",
              "       [1556.959961],\n",
              "       [1162.810059],\n",
              "       [1781.380005],\n",
              "       [1279.310059],\n",
              "       [1793.189941],\n",
              "       [1480.319946],\n",
              "       [1341.390015],\n",
              "       [1263.469971],\n",
              "       [1541.73999 ],\n",
              "       [1439.199951],\n",
              "       [1526.689941]])"
            ]
          },
          "metadata": {
            "tags": []
          },
          "execution_count": 9
        }
      ]
    },
    {
      "cell_type": "code",
      "metadata": {
        "colab": {
          "base_uri": "https://localhost:8080/"
        },
        "id": "91STF-6XBj2X",
        "outputId": "49326106-d09c-4d8f-e369-dde407c2e6e9"
      },
      "source": [
        "type(orginal_y)"
      ],
      "execution_count": null,
      "outputs": [
        {
          "output_type": "execute_result",
          "data": {
            "text/plain": [
              "numpy.ndarray"
            ]
          },
          "metadata": {
            "tags": []
          },
          "execution_count": 10
        }
      ]
    },
    {
      "cell_type": "markdown",
      "metadata": {
        "id": "XjsGJ8zpk9Fw"
      },
      "source": [
        "**1. Random Forest Regression Algorithm**"
      ]
    },
    {
      "cell_type": "markdown",
      "metadata": {
        "id": "K1_H3x3BXC95"
      },
      "source": [
        "**1.a) Applying the Random Forest Regression Algorithm to Data**"
      ]
    },
    {
      "cell_type": "code",
      "metadata": {
        "colab": {
          "base_uri": "https://localhost:8080/"
        },
        "id": "R-f6IpGbWqGP",
        "outputId": "a319d08f-6fd8-4e70-8ba7-8cf075c8536b"
      },
      "source": [
        "# Training the Random Forest Regression model on the whole dataset\n",
        "from sklearn.ensemble import RandomForestRegressor\n",
        "regressor = RandomForestRegressor(n_estimators = 10, random_state = 0)\n",
        "regressor.fit(train_X, train_y)\n"
      ],
      "execution_count": null,
      "outputs": [
        {
          "output_type": "execute_result",
          "data": {
            "text/plain": [
              "RandomForestRegressor(bootstrap=True, ccp_alpha=0.0, criterion='mse',\n",
              "                      max_depth=None, max_features='auto', max_leaf_nodes=None,\n",
              "                      max_samples=None, min_impurity_decrease=0.0,\n",
              "                      min_impurity_split=None, min_samples_leaf=1,\n",
              "                      min_samples_split=2, min_weight_fraction_leaf=0.0,\n",
              "                      n_estimators=10, n_jobs=None, oob_score=False,\n",
              "                      random_state=0, verbose=0, warm_start=False)"
            ]
          },
          "metadata": {
            "tags": []
          },
          "execution_count": 11
        }
      ]
    },
    {
      "cell_type": "markdown",
      "metadata": {
        "id": "VPM79WdKXbIi"
      },
      "source": [
        "**1.b) Performance Analysis of Random Forest Algorithm**"
      ]
    },
    {
      "cell_type": "code",
      "metadata": {
        "id": "BGiAkOx4x8R1"
      },
      "source": [
        "from sklearn.metrics import mean_absolute_error\r\n",
        "from sklearn.metrics import mean_squared_log_error\r\n",
        "from sklearn.metrics import mean_gamma_deviance\r\n",
        "from sklearn.metrics import mean_poisson_deviance\r\n",
        "from sklearn.metrics import r2_score\r\n",
        "from sklearn.metrics import roc_auc_score\r\n",
        "from sklearn.metrics import roc_curve"
      ],
      "execution_count": null,
      "outputs": []
    },
    {
      "cell_type": "code",
      "metadata": {
        "colab": {
          "base_uri": "https://localhost:8080/"
        },
        "id": "jZNjt0ukWshB",
        "outputId": "15098f7d-980e-4e00-db9b-1cf4066234de"
      },
      "source": [
        "#Make Predictions and Evaluate the results\n",
        "predict_y = regressor.predict(test_X)\n",
        "print('Prediction Score : ' , regressor.score(test_X,test_y))\n",
        "error = mean_squared_error(test_y,predict_y)\n",
        "print('Mean Squared Error : ',error)\n",
        "error = mean_absolute_error(test_y,predict_y)\n",
        "print('mean_absolute_error : ',error)\n",
        "error = mean_squared_log_error(test_y,predict_y)\n",
        "print('mean_squared_log_error : ',error)\n",
        "\n",
        "error = mean_gamma_deviance(test_y,predict_y)\n",
        "print('mean_gamma_deviance : ',error)\n",
        "\n",
        "error = mean_poisson_deviance(test_y,predict_y)\n",
        "print('mean_poisson_deviance : ',error)\n",
        "\n",
        "error = r2_score(test_y,predict_y)\n",
        "print('r2_score : ',error)\n",
        "\n"
      ],
      "execution_count": null,
      "outputs": [
        {
          "output_type": "stream",
          "text": [
            "Prediction Score :  0.9921687143248271\n",
            "Mean Squared Error :  234.84188715181568\n",
            "mean_absolute_error :  12.134987575862063\n",
            "mean_squared_log_error :  0.00013009872461467573\n",
            "mean_gamma_deviance :  0.00013051959956134063\n",
            "mean_poisson_deviance :  0.17349551926968318\n",
            "r2_score :  0.992168714324827\n"
          ],
          "name": "stdout"
        }
      ]
    },
    {
      "cell_type": "code",
      "metadata": {
        "colab": {
          "base_uri": "https://localhost:8080/"
        },
        "id": "090rH4L5AyhC",
        "outputId": "58241784-c50d-48ee-b584-e12aad4a1771"
      },
      "source": [
        "predict_y\r\n"
      ],
      "execution_count": null,
      "outputs": [
        {
          "output_type": "execute_result",
          "data": {
            "text/plain": [
              "array([1101.2080077, 1109.7659911, 1558.7270017, 1444.3499756,\n",
              "       1468.8289796, 1109.4529906, 1437.2969726, 1392.3020019,\n",
              "       1427.598999 , 1617.1799926, 1549.5510134, 1323.6509886,\n",
              "       1471.3329834, 1529.7289916, 1405.5069824, 1524.9650025,\n",
              "       1400.9710085, 1457.1329956, 1575.5440432, 1341.0369994,\n",
              "       1514.7360351, 1471.6419678, 1209.4400147, 1492.847986 ,\n",
              "       1483.0029786, 1298.3410277, 1205.2350222, 1387.986975 ,\n",
              "       1548.4190187, 1329.3209838, 1557.2700196, 1421.3720217,\n",
              "       1764.6070189, 1608.4539797, 1115.6130004, 1445.3909788,\n",
              "       1645.7880128, 1757.737988 , 1095.367993 , 1748.5380006,\n",
              "       1389.7819824, 1458.4819824, 1421.6670046, 1477.9949954,\n",
              "       1286.0580079, 1436.688977 , 1115.2309936, 1547.0069944,\n",
              "       1173.5840088, 1769.8560301, 1273.154004 , 1770.2400391,\n",
              "       1489.2629883, 1386.7199828, 1282.5760009, 1521.4309692,\n",
              "       1441.2289917, 1530.7830201])"
            ]
          },
          "metadata": {
            "tags": []
          },
          "execution_count": 18
        }
      ]
    },
    {
      "cell_type": "code",
      "metadata": {
        "colab": {
          "base_uri": "https://localhost:8080/"
        },
        "id": "V_o0ftD-A3uO",
        "outputId": "3ddc0eba-02f9-4864-b16a-0791876f7da8"
      },
      "source": [
        "test_y"
      ],
      "execution_count": null,
      "outputs": [
        {
          "output_type": "execute_result",
          "data": {
            "text/plain": [
              "50     1084.329956\n",
              "59     1110.709961\n",
              "199    1559.130005\n",
              "116    1435.959961\n",
              "148    1464.969971\n",
              "56     1134.459961\n",
              "16     1433.900024\n",
              "90     1375.739990\n",
              "185    1444.959961\n",
              "205    1641.000000\n",
              "201    1534.609985\n",
              "82     1348.660034\n",
              "110    1465.849976\n",
              "142    1530.199951\n",
              "96     1406.719971\n",
              "208    1516.619995\n",
              "124    1413.609985\n",
              "182    1465.459961\n",
              "161    1580.420044\n",
              "92     1356.130005\n",
              "144    1522.020020\n",
              "11     1480.390015\n",
              "45     1215.560059\n",
              "26     1508.680054\n",
              "147    1474.449951\n",
              "39     1339.329956\n",
              "67     1210.280029\n",
              "123    1394.969971\n",
              "158    1558.599976\n",
              "81     1341.479980\n",
              "200    1573.010010\n",
              "111    1403.839966\n",
              "220    1777.020020\n",
              "162    1588.199951\n",
              "60     1146.819946\n",
              "115    1451.119995\n",
              "165    1634.329956\n",
              "216    1763.000000\n",
              "51     1119.800049\n",
              "226    1734.859985\n",
              "95     1373.484985\n",
              "193    1460.290039\n",
              "101    1416.729980\n",
              "149    1473.609985\n",
              "73     1283.250000\n",
              "20     1434.229980\n",
              "64     1097.880005\n",
              "173    1556.959961\n",
              "61     1162.810059\n",
              "221    1781.380005\n",
              "78     1279.310059\n",
              "229    1793.189941\n",
              "153    1480.319946\n",
              "41     1341.390015\n",
              "72     1263.469971\n",
              "131    1541.739990\n",
              "9      1439.199951\n",
              "32     1526.689941\n",
              "Name: Close, dtype: float64"
            ]
          },
          "metadata": {
            "tags": []
          },
          "execution_count": 19
        }
      ]
    },
    {
      "cell_type": "code",
      "metadata": {
        "colab": {
          "base_uri": "https://localhost:8080/"
        },
        "id": "f7jJF-ju_GPq",
        "outputId": "b7924d0d-cd44-4cf6-df1c-215ee4e385c0"
      },
      "source": [
        "test_y"
      ],
      "execution_count": null,
      "outputs": [
        {
          "output_type": "execute_result",
          "data": {
            "text/plain": [
              "50     1084.329956\n",
              "59     1110.709961\n",
              "199    1559.130005\n",
              "116    1435.959961\n",
              "148    1464.969971\n",
              "56     1134.459961\n",
              "16     1433.900024\n",
              "90     1375.739990\n",
              "185    1444.959961\n",
              "205    1641.000000\n",
              "201    1534.609985\n",
              "82     1348.660034\n",
              "110    1465.849976\n",
              "142    1530.199951\n",
              "96     1406.719971\n",
              "208    1516.619995\n",
              "124    1413.609985\n",
              "182    1465.459961\n",
              "161    1580.420044\n",
              "92     1356.130005\n",
              "144    1522.020020\n",
              "11     1480.390015\n",
              "45     1215.560059\n",
              "26     1508.680054\n",
              "147    1474.449951\n",
              "39     1339.329956\n",
              "67     1210.280029\n",
              "123    1394.969971\n",
              "158    1558.599976\n",
              "81     1341.479980\n",
              "200    1573.010010\n",
              "111    1403.839966\n",
              "220    1777.020020\n",
              "162    1588.199951\n",
              "60     1146.819946\n",
              "115    1451.119995\n",
              "165    1634.329956\n",
              "216    1763.000000\n",
              "51     1119.800049\n",
              "226    1734.859985\n",
              "95     1373.484985\n",
              "193    1460.290039\n",
              "101    1416.729980\n",
              "149    1473.609985\n",
              "73     1283.250000\n",
              "20     1434.229980\n",
              "64     1097.880005\n",
              "173    1556.959961\n",
              "61     1162.810059\n",
              "221    1781.380005\n",
              "78     1279.310059\n",
              "229    1793.189941\n",
              "153    1480.319946\n",
              "41     1341.390015\n",
              "72     1263.469971\n",
              "131    1541.739990\n",
              "9      1439.199951\n",
              "32     1526.689941\n",
              "Name: Close, dtype: float64"
            ]
          },
          "metadata": {
            "tags": []
          },
          "execution_count": 20
        }
      ]
    },
    {
      "cell_type": "markdown",
      "metadata": {
        "id": "yfmChIFXXpeK"
      },
      "source": [
        "**Visualization of Orginal and Predicted Stock prices**"
      ]
    },
    {
      "cell_type": "code",
      "metadata": {
        "colab": {
          "base_uri": "https://localhost:8080/",
          "height": 312
        },
        "id": "2tGWM_vACe__",
        "outputId": "034a520e-636c-4d57-f6d7-fbc1dda13cd6"
      },
      "source": [
        "plt.plot(orginal_y,label='Actual')\r\n",
        "plt.plot(predict_y,label='predicted')\r\n",
        "plt.legend()\r\n",
        "plt.xlabel('The Date of Stock Prices')\r\n",
        "plt.ylabel('The Stock Market Price ')\r\n",
        "plt.title('The Visualization of Orginal and Predicted Stock Prices ')"
      ],
      "execution_count": null,
      "outputs": [
        {
          "output_type": "execute_result",
          "data": {
            "text/plain": [
              "Text(0.5, 1.0, 'The Visualization of Orginal and Predicted Stock Prices ')"
            ]
          },
          "metadata": {
            "tags": []
          },
          "execution_count": 21
        },
        {
          "output_type": "display_data",
          "data": {
            "image/png": "[encoded data removed]",
            "text/plain": [
              "<Figure size 432x288 with 1 Axes>"
            ]
          },
          "metadata": {
            "tags": [],
            "needs_background": "light"
          }
        }
      ]
    },
    {
      "cell_type": "code",
      "metadata": {
        "colab": {
          "base_uri": "https://localhost:8080/",
          "height": 295
        },
        "id": "RgHHKFeKWxha",
        "outputId": "05c00a29-4971-4c2f-f0cc-83cd56039e80"
      },
      "source": [
        "#Plot the predicted and the expected values\n",
        "fig = plt.figure()\n",
        "ax = plt.axes()\n",
        "ax.grid()\n",
        "ax.set(xlabel='Close ($)',ylabel='Open ($)', title='Google Stock Prediction using Linear Regression')\n",
        "ax.plot(test_X['Open'],test_y)\n",
        "ax.plot(test_X['Open'],predict_y)\n",
        "plt.show()"
      ],
      "execution_count": null,
      "outputs": [
        {
          "output_type": "display_data",
          "data": {
            "image/png": "[encoded data removed]",
            "text/plain": [
              "<Figure size 432x288 with 1 Axes>"
            ]
          },
          "metadata": {
            "tags": [],
            "needs_background": "light"
          }
        }
      ]
    },
    {
      "cell_type": "markdown",
      "metadata": {
        "id": "fGdAXmPblhU_"
      },
      "source": [
        "**2. Decision Tree Regression**"
      ]
    },
    {
      "cell_type": "markdown",
      "metadata": {
        "id": "ObFjyioAktSO"
      },
      "source": [
        "**2.a) Applying Decision Tree Regression**"
      ]
    },
    {
      "cell_type": "code",
      "metadata": {
        "colab": {
          "base_uri": "https://localhost:8080/"
        },
        "id": "B9Gu9SV2lCvE",
        "outputId": "d008d8d5-1fc1-490c-affe-fcced94a907c"
      },
      "source": [
        "#Training the Decision Tree Regression model on the whole dataset\n",
        "from sklearn.tree import DecisionTreeRegressor\n",
        "regressor = DecisionTreeRegressor(random_state = 0)\n",
        "regressor.fit(train_X, train_y)"
      ],
      "execution_count": null,
      "outputs": [
        {
          "output_type": "execute_result",
          "data": {
            "text/plain": [
              "DecisionTreeRegressor(ccp_alpha=0.0, criterion='mse', max_depth=None,\n",
              "                      max_features=None, max_leaf_nodes=None,\n",
              "                      min_impurity_decrease=0.0, min_impurity_split=None,\n",
              "                      min_samples_leaf=1, min_samples_split=2,\n",
              "                      min_weight_fraction_leaf=0.0, presort='deprecated',\n",
              "                      random_state=0, splitter='best')"
            ]
          },
          "metadata": {
            "tags": []
          },
          "execution_count": 23
        }
      ]
    },
    {
      "cell_type": "markdown",
      "metadata": {
        "id": "70kNl_eZkz-Y"
      },
      "source": [
        "**2.b) Performance Analysis of Decision Tree Regression**"
      ]
    },
    {
      "cell_type": "code",
      "metadata": {
        "colab": {
          "base_uri": "https://localhost:8080/"
        },
        "id": "TKoNEsZMlYBf",
        "outputId": "7d10c45a-179c-4f58-d73c-0be88142284a"
      },
      "source": [
        "#Make Predictions and Evaluate the results\n",
        "predict_y = regressor.predict(test_X)\n",
        "print('Prediction Score : ' , regressor.score(test_X,test_y))\n",
        "error = mean_squared_error(test_y,predict_y)\n",
        "print('Mean Squared Error : ',error)\n",
        "error = mean_absolute_error(test_y,predict_y)\n",
        "print('mean_absolute_error : ',error)\n",
        "error = mean_squared_log_error(test_y,predict_y)\n",
        "print('mean_squared_log_error : ',error)\n",
        "\n",
        "error = mean_gamma_deviance(test_y,predict_y)\n",
        "print('mean_gamma_deviance : ',error)\n",
        "\n",
        "error = mean_poisson_deviance(test_y,predict_y)\n",
        "print('mean_poisson_deviance : ',error)\n",
        "\n",
        "error = r2_score(test_y,predict_y)\n",
        "print('r2_score : ',error)\n",
        "\n"
      ],
      "execution_count": null,
      "outputs": [
        {
          "output_type": "stream",
          "text": [
            "Prediction Score :  0.9869233691637124\n",
            "Mean Squared Error :  392.13748425970635\n",
            "mean_absolute_error :  14.816982999999992\n",
            "mean_squared_log_error :  0.0002286716229833186\n",
            "mean_gamma_deviance :  0.00023018923679570316\n",
            "mean_poisson_deviance :  0.2963472646635229\n",
            "r2_score :  0.9869233691637124\n"
          ],
          "name": "stdout"
        }
      ]
    },
    {
      "cell_type": "markdown",
      "metadata": {
        "id": "nhXDj9gyk9rj"
      },
      "source": [
        "**2.c) Visualization of Orginal and Predicted Stock Prices**"
      ]
    },
    {
      "cell_type": "code",
      "metadata": {
        "colab": {
          "base_uri": "https://localhost:8080/",
          "height": 312
        },
        "id": "ly6T1TBdD-Bv",
        "outputId": "8dccba06-95ab-4cea-8ffc-0aa88d3acceb"
      },
      "source": [
        "plt.plot(orginal_y,label='Actual')\r\n",
        "plt.plot(predict_y,label='predicted')\r\n",
        "plt.legend()\r\n",
        "plt.xlabel('The Date of Stock Prices')\r\n",
        "plt.ylabel('The Stock Market Price ')\r\n",
        "plt.title('The Visualization of Orginal and Predicted Stock Prices')\r\n"
      ],
      "execution_count": null,
      "outputs": [
        {
          "output_type": "execute_result",
          "data": {
            "text/plain": [
              "Text(0.5, 1.0, 'The Visualization of Orginal and Predicted Stock Prices')"
            ]
          },
          "metadata": {
            "tags": []
          },
          "execution_count": 25
        },
        {
          "output_type": "display_data",
          "data": {
            "image/png": "[encoded data removed]",
            "text/plain": [
              "<Figure size 432x288 with 1 Axes>"
            ]
          },
          "metadata": {
            "tags": [],
            "needs_background": "light"
          }
        }
      ]
    },
    {
      "cell_type": "code",
      "metadata": {
        "colab": {
          "base_uri": "https://localhost:8080/",
          "height": 295
        },
        "id": "nToMHrcXlZZC",
        "outputId": "2008e913-1137-4376-ad23-df85fa6d5520"
      },
      "source": [
        "#Plot the predicted and the expected values\n",
        "fig = plt.figure()\n",
        "ax = plt.axes()\n",
        "ax.grid()\n",
        "ax.set(xlabel='Close ($)',ylabel='Open ($)', title='Google Stock Prediction using Linear Regression')\n",
        "ax.plot(test_X['Open'],test_y)\n",
        "ax.plot(test_X['Open'],predict_y)\n",
        "fig.savefig('LRPlot.png')\n",
        "plt.show()"
      ],
      "execution_count": null,
      "outputs": [
        {
          "output_type": "display_data",
          "data": {
            "image/png": "[encoded data removed]",
            "text/plain": [
              "<Figure size 432x288 with 1 Axes>"
            ]
          },
          "metadata": {
            "tags": [],
            "needs_background": "light"
          }
        }
      ]
    },
    {
      "cell_type": "markdown",
      "metadata": {
        "id": "mYNuLO6jmVGe"
      },
      "source": [
        "**3. Multiple Linear Regression**"
      ]
    },
    {
      "cell_type": "markdown",
      "metadata": {
        "id": "xFv9J3HJkDeV"
      },
      "source": [
        "**3.a) Applying the Multiple Linear Regression**"
      ]
    },
    {
      "cell_type": "code",
      "metadata": {
        "colab": {
          "base_uri": "https://localhost:8080/"
        },
        "id": "3Qk1Q7Aflomj",
        "outputId": "5c8808f7-d894-43bd-d5b4-3c6706fc15e6"
      },
      "source": [
        " # Training the Multiple Linear Regression model on the Training set\n",
        "from sklearn.linear_model import LinearRegression\n",
        "regressor = LinearRegression()\n",
        "regressor.fit(train_X, train_y)"
      ],
      "execution_count": null,
      "outputs": [
        {
          "output_type": "execute_result",
          "data": {
            "text/plain": [
              "LinearRegression(copy_X=True, fit_intercept=True, n_jobs=None, normalize=False)"
            ]
          },
          "metadata": {
            "tags": []
          },
          "execution_count": 27
        }
      ]
    },
    {
      "cell_type": "markdown",
      "metadata": {
        "id": "EpugZ0dQkJrv"
      },
      "source": [
        "**3.b) Performance Analysis of Multiple Linear Regression Algorithm**"
      ]
    },
    {
      "cell_type": "markdown",
      "metadata": {
        "id": "z_NZEjTV-ZpA"
      },
      "source": [
        ""
      ]
    },
    {
      "cell_type": "code",
      "metadata": {
        "colab": {
          "base_uri": "https://localhost:8080/"
        },
        "id": "nZXawQbQl3eH",
        "outputId": "c1ae7d99-2251-402d-8860-db59d0d5e63b"
      },
      "source": [
        "#Make Predictions and Evaluate the results\n",
        "predict_y = regressor.predict(test_X)\n",
        "print('Prediction Score : ' , regressor.score(test_X,test_y))\n",
        "error = mean_squared_error(test_y,predict_y)\n",
        "print('Mean Squared Error : ',error)\n",
        "error = mean_absolute_error(test_y,predict_y)\n",
        "print('mean_absolute_error : ',error)\n",
        "error = mean_squared_log_error(test_y,predict_y)\n",
        "print('mean_squared_log_error : ',error)\n",
        "\n",
        "error = mean_gamma_deviance(test_y,predict_y)\n",
        "print('mean_gamma_deviance : ',error)\n",
        "\n",
        "error = mean_poisson_deviance(test_y,predict_y)\n",
        "print('mean_poisson_deviance : ',error)\n",
        "\n",
        "error = r2_score(test_y,predict_y)\n",
        "print('r2_score : ',error)\n",
        "\n"
      ],
      "execution_count": null,
      "outputs": [
        {
          "output_type": "stream",
          "text": [
            "Prediction Score :  0.9952072350825899\n",
            "Mean Squared Error :  143.72377723977658\n",
            "mean_absolute_error :  9.15780042955706\n",
            "mean_squared_log_error :  8.821198500795031e-05\n",
            "mean_gamma_deviance :  8.804065488627352e-05\n",
            "mean_poisson_deviance :  0.1112642252334087\n",
            "r2_score :  0.9952072350825899\n"
          ],
          "name": "stdout"
        }
      ]
    },
    {
      "cell_type": "code",
      "metadata": {
        "colab": {
          "base_uri": "https://localhost:8080/"
        },
        "id": "yG7ZD8yQcAEV",
        "outputId": "1f28448b-9191-40d6-8e07-8b8cd1bfa553"
      },
      "source": [
        "predict_y"
      ],
      "execution_count": null,
      "outputs": [
        {
          "output_type": "execute_result",
          "data": {
            "text/plain": [
              "array([1125.90958179, 1133.06456854, 1566.17884517, 1434.31135501,\n",
              "       1469.66300106, 1121.16485937, 1429.37758368, 1389.39267783,\n",
              "       1431.86335719, 1632.70400066, 1545.22827882, 1345.72185446,\n",
              "       1468.53340863, 1534.44595637, 1404.72383897, 1525.56169479,\n",
              "       1407.90619787, 1453.43160266, 1584.93064042, 1345.32286644,\n",
              "       1521.49586914, 1473.22094775, 1241.50062755, 1501.38558068,\n",
              "       1473.12938993, 1322.66949992, 1205.05220864, 1379.61434893,\n",
              "       1551.36695845, 1343.95689126, 1574.4275909 , 1421.06463191,\n",
              "       1762.4630046 , 1597.98453606, 1127.24256289, 1445.32390083,\n",
              "       1631.28000299, 1784.35889084, 1097.18540238, 1725.26478174,\n",
              "       1381.66881058, 1446.38486341, 1430.78636575, 1474.79521958,\n",
              "       1283.821048  , 1438.82053084, 1096.36297679, 1548.95701081,\n",
              "       1165.13760696, 1786.42332584, 1269.39640026, 1793.22828567,\n",
              "       1494.77397685, 1356.84780456, 1255.76578707, 1527.27320842,\n",
              "       1439.41615976, 1527.36846751])"
            ]
          },
          "metadata": {
            "tags": []
          },
          "execution_count": 29
        }
      ]
    },
    {
      "cell_type": "code",
      "metadata": {
        "colab": {
          "base_uri": "https://localhost:8080/"
        },
        "id": "9ma9E2FNb9pk",
        "outputId": "34539703-1faf-4617-88fa-76c5e571295e"
      },
      "source": [
        "test_y"
      ],
      "execution_count": null,
      "outputs": [
        {
          "output_type": "execute_result",
          "data": {
            "text/plain": [
              "50     1084.329956\n",
              "59     1110.709961\n",
              "199    1559.130005\n",
              "116    1435.959961\n",
              "148    1464.969971\n",
              "56     1134.459961\n",
              "16     1433.900024\n",
              "90     1375.739990\n",
              "185    1444.959961\n",
              "205    1641.000000\n",
              "201    1534.609985\n",
              "82     1348.660034\n",
              "110    1465.849976\n",
              "142    1530.199951\n",
              "96     1406.719971\n",
              "208    1516.619995\n",
              "124    1413.609985\n",
              "182    1465.459961\n",
              "161    1580.420044\n",
              "92     1356.130005\n",
              "144    1522.020020\n",
              "11     1480.390015\n",
              "45     1215.560059\n",
              "26     1508.680054\n",
              "147    1474.449951\n",
              "39     1339.329956\n",
              "67     1210.280029\n",
              "123    1394.969971\n",
              "158    1558.599976\n",
              "81     1341.479980\n",
              "200    1573.010010\n",
              "111    1403.839966\n",
              "220    1777.020020\n",
              "162    1588.199951\n",
              "60     1146.819946\n",
              "115    1451.119995\n",
              "165    1634.329956\n",
              "216    1763.000000\n",
              "51     1119.800049\n",
              "226    1734.859985\n",
              "95     1373.484985\n",
              "193    1460.290039\n",
              "101    1416.729980\n",
              "149    1473.609985\n",
              "73     1283.250000\n",
              "20     1434.229980\n",
              "64     1097.880005\n",
              "173    1556.959961\n",
              "61     1162.810059\n",
              "221    1781.380005\n",
              "78     1279.310059\n",
              "229    1793.189941\n",
              "153    1480.319946\n",
              "41     1341.390015\n",
              "72     1263.469971\n",
              "131    1541.739990\n",
              "9      1439.199951\n",
              "32     1526.689941\n",
              "Name: Close, dtype: float64"
            ]
          },
          "metadata": {
            "tags": []
          },
          "execution_count": 30
        }
      ]
    },
    {
      "cell_type": "markdown",
      "metadata": {
        "id": "JSp6c7fFkTfP"
      },
      "source": [
        "**3.c)Visualization of Orginal and Predicted Stock Prices**"
      ]
    },
    {
      "cell_type": "code",
      "metadata": {
        "colab": {
          "base_uri": "https://localhost:8080/",
          "height": 312
        },
        "id": "Ldr1W93REFBr",
        "outputId": "0caf2f44-159e-4a4c-c9d8-7c41977644e2"
      },
      "source": [
        "plt.plot(orginal_y,label='Actual')\r\n",
        "plt.plot(predict_y,label='predicted')\r\n",
        "plt.legend()\r\n",
        "plt.xlabel('The Date of Stock Prices')\r\n",
        "plt.ylabel('The Stock Market Price ')\r\n",
        "plt.title('The Visualization of Orginal and Predicted Stock Prices ')"
      ],
      "execution_count": null,
      "outputs": [
        {
          "output_type": "execute_result",
          "data": {
            "text/plain": [
              "Text(0.5, 1.0, 'The Visualization of Orginal and Predicted Stock Prices ')"
            ]
          },
          "metadata": {
            "tags": []
          },
          "execution_count": 31
        },
        {
          "output_type": "display_data",
          "data": {
            "image/png": "[encoded data removed]",
            "text/plain": [
              "<Figure size 432x288 with 1 Axes>"
            ]
          },
          "metadata": {
            "tags": [],
            "needs_background": "light"
          }
        }
      ]
    },
    {
      "cell_type": "code",
      "metadata": {
        "colab": {
          "base_uri": "https://localhost:8080/",
          "height": 295
        },
        "id": "NLBGZlVwl820",
        "outputId": "46cd1bef-1dbd-4a96-902c-09a23adcafa8"
      },
      "source": [
        "#Plot the predicted and the expected values\n",
        "fig = plt.figure()\n",
        "ax = plt.axes()\n",
        "ax.grid()\n",
        "ax.set(xlabel='Close ($)',ylabel='Open ($)', title='Google Stock Prediction using Linear Regression')\n",
        "ax.plot(test_X['Open'],test_y)\n",
        "ax.plot(test_X['Open'],predict_y)\n",
        "fig.savefig('LRPlot.png')\n",
        "plt.show()"
      ],
      "execution_count": null,
      "outputs": [
        {
          "output_type": "display_data",
          "data": {
            "image/png": "[encoded data removed]",
            "text/plain": [
              "<Figure size 432x288 with 1 Axes>"
            ]
          },
          "metadata": {
            "tags": [],
            "needs_background": "light"
          }
        }
      ]
    },
    {
      "cell_type": "markdown",
      "metadata": {
        "id": "d829CQ4lO5DZ"
      },
      "source": [
        "**4. Bidirectional LSTM**"
      ]
    },
    {
      "cell_type": "markdown",
      "metadata": {
        "id": "GvBInyzJlXko"
      },
      "source": [
        "**4.a) Importing the Libraries**"
      ]
    },
    {
      "cell_type": "code",
      "metadata": {
        "id": "FofDrMhVO9S8"
      },
      "source": [
        "import math\r\n",
        "import matplotlib.pyplot as plt\r\n",
        "import keras\r\n",
        "import pandas as pd\r\n",
        "import numpy as np\r\n",
        "from keras.models import Sequential\r\n",
        "from keras.layers import Dense\r\n",
        "from keras.layers import Bidirectional\r\n",
        "from keras.layers import LSTM\r\n",
        "from keras.layers import Dropout\r\n",
        "from keras.layers import *\r\n",
        "from sklearn.preprocessing import MinMaxScaler\r\n",
        "from sklearn.metrics import mean_squared_error\r\n",
        "from sklearn.metrics import mean_absolute_error\r\n",
        "from sklearn.model_selection import train_test_split\r\n",
        "from keras.callbacks import EarlyStopping\r\n",
        "df=pd.read_csv(\"/content/GOOG.csv\")"
      ],
      "execution_count": null,
      "outputs": []
    },
    {
      "cell_type": "code",
      "metadata": {
        "colab": {
          "base_uri": "https://localhost:8080/"
        },
        "id": "semDa80sO-dm",
        "outputId": "725826d0-fa2a-4813-ac7b-3b4d4b3b8845"
      },
      "source": [
        "df.shape"
      ],
      "execution_count": null,
      "outputs": [
        {
          "output_type": "execute_result",
          "data": {
            "text/plain": [
              "(230, 7)"
            ]
          },
          "metadata": {
            "tags": []
          },
          "execution_count": 34
        }
      ]
    },
    {
      "cell_type": "code",
      "metadata": {
        "id": "bP4bkE5vPBw0"
      },
      "source": [
        "training_set = df.iloc[:172, 1:2].values\r\n",
        "test_set = df.iloc[172:, 1:2].values"
      ],
      "execution_count": null,
      "outputs": []
    },
    {
      "cell_type": "markdown",
      "metadata": {
        "id": "K21nzHEPlehP"
      },
      "source": [
        "**4.b) Creation of Data Strucure to store Timestamps**"
      ]
    },
    {
      "cell_type": "code",
      "metadata": {
        "id": "4ZXmN9KmPDv4"
      },
      "source": [
        "# Feature Scaling\r\n",
        "sc = MinMaxScaler(feature_range = (0, 1))\r\n",
        "training_set_scaled = sc.fit_transform(training_set)\r\n",
        "# Creating a data structure with 60 time-steps and 1 output\r\n",
        "X_train = []\r\n",
        "y_train = []\r\n",
        "for i in range(60, 172):\r\n",
        "    X_train.append(training_set_scaled[i-60:i, 0])\r\n",
        "    y_train.append(training_set_scaled[i, 0])\r\n",
        "X_train, y_train = np.array(X_train), np.array(y_train)\r\n",
        "X_train = np.reshape(X_train, (X_train.shape[0], X_train.shape[1], 1))\r\n"
      ],
      "execution_count": null,
      "outputs": []
    },
    {
      "cell_type": "markdown",
      "metadata": {
        "id": "Qg1DxySWltwC"
      },
      "source": [
        "**4.c) Creating the Model**"
      ]
    },
    {
      "cell_type": "code",
      "metadata": {
        "colab": {
          "base_uri": "https://localhost:8080/"
        },
        "id": "o4UAPR5YPEmU",
        "outputId": "65456495-9b3c-4ee1-c1a3-3837ee1e44cf"
      },
      "source": [
        "model = Sequential()\r\n",
        "#Adding the first LSTM layer and some Dropout regularisation\r\n",
        "model.add(Bidirectional(LSTM(units = 50, return_sequences = True, input_shape = (X_train.shape[1], 1))))\r\n",
        "model.add(Dropout(0.2))\r\n",
        "# Adding a second LSTM layer and some Dropout regularisation\r\n",
        "model.add(Bidirectional(LSTM(units = 50, return_sequences = True)))\r\n",
        "model.add(Dropout(0.2))\r\n",
        "# Adding a third LSTM layer and some Dropout regularisation\r\n",
        "model.add(Bidirectional(LSTM(units = 50, return_sequences = True)))\r\n",
        "model.add(Dropout(0.2))\r\n",
        "# Adding a fourth LSTM layer and some Dropout regularisation\r\n",
        "model.add(Bidirectional(LSTM(units = 50)))\r\n",
        "model.add(Dropout(0.2))\r\n",
        "# Adding the output layer\r\n",
        "model.add(Dense(units = 1))\r\n",
        "\r\n",
        "# Compiling the RNN\r\n",
        "model.compile(optimizer = 'adam', loss = 'mean_squared_error')\r\n",
        "\r\n",
        "# Fitting the RNN to the Training set\r\n",
        "history=model.fit(X_train, y_train, epochs = 100, batch_size = 32)"
      ],
      "execution_count": null,
      "outputs": [
        {
          "output_type": "stream",
          "text": [
            "Epoch 1/100\n",
            "4/4 [==============================] - 15s 198ms/step - loss: 0.2487\n",
            "Epoch 2/100\n",
            "4/4 [==============================] - 1s 198ms/step - loss: 0.0766\n",
            "Epoch 3/100\n",
            "4/4 [==============================] - 1s 190ms/step - loss: 0.0387\n",
            "Epoch 4/100\n",
            "4/4 [==============================] - 1s 191ms/step - loss: 0.0224\n",
            "Epoch 5/100\n",
            "4/4 [==============================] - 1s 192ms/step - loss: 0.0245\n",
            "Epoch 6/100\n",
            "4/4 [==============================] - 1s 190ms/step - loss: 0.0139\n",
            "Epoch 7/100\n",
            "4/4 [==============================] - 1s 188ms/step - loss: 0.0184\n",
            "Epoch 8/100\n",
            "4/4 [==============================] - 1s 192ms/step - loss: 0.0085\n",
            "Epoch 9/100\n",
            "4/4 [==============================] - 1s 190ms/step - loss: 0.0142\n",
            "Epoch 10/100\n",
            "4/4 [==============================] - 1s 189ms/step - loss: 0.0090\n",
            "Epoch 11/100\n",
            "4/4 [==============================] - 1s 187ms/step - loss: 0.0096\n",
            "Epoch 12/100\n",
            "4/4 [==============================] - 1s 189ms/step - loss: 0.0097\n",
            "Epoch 13/100\n",
            "4/4 [==============================] - 1s 190ms/step - loss: 0.0078\n",
            "Epoch 14/100\n",
            "4/4 [==============================] - 1s 192ms/step - loss: 0.0078\n",
            "Epoch 15/100\n",
            "4/4 [==============================] - 1s 186ms/step - loss: 0.0069\n",
            "Epoch 16/100\n",
            "4/4 [==============================] - 1s 186ms/step - loss: 0.0064\n",
            "Epoch 17/100\n",
            "4/4 [==============================] - 1s 194ms/step - loss: 0.0060\n",
            "Epoch 18/100\n",
            "4/4 [==============================] - 1s 194ms/step - loss: 0.0057\n",
            "Epoch 19/100\n",
            "4/4 [==============================] - 1s 189ms/step - loss: 0.0065\n",
            "Epoch 20/100\n",
            "4/4 [==============================] - 1s 191ms/step - loss: 0.0065\n",
            "Epoch 21/100\n",
            "4/4 [==============================] - 1s 190ms/step - loss: 0.0081\n",
            "Epoch 22/100\n",
            "4/4 [==============================] - 1s 191ms/step - loss: 0.0071\n",
            "Epoch 23/100\n",
            "4/4 [==============================] - 1s 195ms/step - loss: 0.0075\n",
            "Epoch 24/100\n",
            "4/4 [==============================] - 1s 187ms/step - loss: 0.0062\n",
            "Epoch 25/100\n",
            "4/4 [==============================] - 1s 187ms/step - loss: 0.0055\n",
            "Epoch 26/100\n",
            "4/4 [==============================] - 1s 189ms/step - loss: 0.0067\n",
            "Epoch 27/100\n",
            "4/4 [==============================] - 1s 190ms/step - loss: 0.0049\n",
            "Epoch 28/100\n",
            "4/4 [==============================] - 1s 190ms/step - loss: 0.0061\n",
            "Epoch 29/100\n",
            "4/4 [==============================] - 1s 186ms/step - loss: 0.0071\n",
            "Epoch 30/100\n",
            "4/4 [==============================] - 1s 191ms/step - loss: 0.0062\n",
            "Epoch 31/100\n",
            "4/4 [==============================] - 1s 202ms/step - loss: 0.0063\n",
            "Epoch 32/100\n",
            "4/4 [==============================] - 1s 195ms/step - loss: 0.0061\n",
            "Epoch 33/100\n",
            "4/4 [==============================] - 1s 188ms/step - loss: 0.0060\n",
            "Epoch 34/100\n",
            "4/4 [==============================] - 1s 189ms/step - loss: 0.0056\n",
            "Epoch 35/100\n",
            "4/4 [==============================] - 1s 191ms/step - loss: 0.0060\n",
            "Epoch 36/100\n",
            "4/4 [==============================] - 1s 193ms/step - loss: 0.0048\n",
            "Epoch 37/100\n",
            "4/4 [==============================] - 1s 188ms/step - loss: 0.0054\n",
            "Epoch 38/100\n",
            "4/4 [==============================] - 1s 192ms/step - loss: 0.0064\n",
            "Epoch 39/100\n",
            "4/4 [==============================] - 1s 195ms/step - loss: 0.0067\n",
            "Epoch 40/100\n",
            "4/4 [==============================] - 1s 195ms/step - loss: 0.0069\n",
            "Epoch 41/100\n",
            "4/4 [==============================] - 1s 190ms/step - loss: 0.0059\n",
            "Epoch 42/100\n",
            "4/4 [==============================] - 1s 196ms/step - loss: 0.0057\n",
            "Epoch 43/100\n",
            "4/4 [==============================] - 1s 191ms/step - loss: 0.0050\n",
            "Epoch 44/100\n",
            "4/4 [==============================] - 1s 197ms/step - loss: 0.0051\n",
            "Epoch 45/100\n",
            "4/4 [==============================] - 1s 193ms/step - loss: 0.0047\n",
            "Epoch 46/100\n",
            "4/4 [==============================] - 1s 188ms/step - loss: 0.0053\n",
            "Epoch 47/100\n",
            "4/4 [==============================] - 1s 186ms/step - loss: 0.0041\n",
            "Epoch 48/100\n",
            "4/4 [==============================] - 1s 189ms/step - loss: 0.0044\n",
            "Epoch 49/100\n",
            "4/4 [==============================] - 1s 194ms/step - loss: 0.0058\n",
            "Epoch 50/100\n",
            "4/4 [==============================] - 1s 189ms/step - loss: 0.0056\n",
            "Epoch 51/100\n",
            "4/4 [==============================] - 1s 187ms/step - loss: 0.0072\n",
            "Epoch 52/100\n",
            "4/4 [==============================] - 1s 198ms/step - loss: 0.0052\n",
            "Epoch 53/100\n",
            "4/4 [==============================] - 1s 194ms/step - loss: 0.0045\n",
            "Epoch 54/100\n",
            "4/4 [==============================] - 1s 190ms/step - loss: 0.0044\n",
            "Epoch 55/100\n",
            "4/4 [==============================] - 1s 192ms/step - loss: 0.0052\n",
            "Epoch 56/100\n",
            "4/4 [==============================] - 1s 186ms/step - loss: 0.0046\n",
            "Epoch 57/100\n",
            "4/4 [==============================] - 1s 189ms/step - loss: 0.0064\n",
            "Epoch 58/100\n",
            "4/4 [==============================] - 1s 201ms/step - loss: 0.0064\n",
            "Epoch 59/100\n",
            "4/4 [==============================] - 1s 189ms/step - loss: 0.0055\n",
            "Epoch 60/100\n",
            "4/4 [==============================] - 1s 190ms/step - loss: 0.0074\n",
            "Epoch 61/100\n",
            "4/4 [==============================] - 1s 191ms/step - loss: 0.0051\n",
            "Epoch 62/100\n",
            "4/4 [==============================] - 1s 188ms/step - loss: 0.0053\n",
            "Epoch 63/100\n",
            "4/4 [==============================] - 1s 192ms/step - loss: 0.0056\n",
            "Epoch 64/100\n",
            "4/4 [==============================] - 1s 188ms/step - loss: 0.0048\n",
            "Epoch 65/100\n",
            "4/4 [==============================] - 1s 192ms/step - loss: 0.0046\n",
            "Epoch 66/100\n",
            "4/4 [==============================] - 1s 195ms/step - loss: 0.0053\n",
            "Epoch 67/100\n",
            "4/4 [==============================] - 1s 192ms/step - loss: 0.0057\n",
            "Epoch 68/100\n",
            "4/4 [==============================] - 1s 189ms/step - loss: 0.0054\n",
            "Epoch 69/100\n",
            "4/4 [==============================] - 1s 186ms/step - loss: 0.0053\n",
            "Epoch 70/100\n",
            "4/4 [==============================] - 1s 194ms/step - loss: 0.0051\n",
            "Epoch 71/100\n",
            "4/4 [==============================] - 1s 200ms/step - loss: 0.0043\n",
            "Epoch 72/100\n",
            "4/4 [==============================] - 1s 187ms/step - loss: 0.0051\n",
            "Epoch 73/100\n",
            "4/4 [==============================] - 1s 184ms/step - loss: 0.0048\n",
            "Epoch 74/100\n",
            "4/4 [==============================] - 1s 188ms/step - loss: 0.0043\n",
            "Epoch 75/100\n",
            "4/4 [==============================] - 1s 188ms/step - loss: 0.0053\n",
            "Epoch 76/100\n",
            "4/4 [==============================] - 1s 193ms/step - loss: 0.0059\n",
            "Epoch 77/100\n",
            "4/4 [==============================] - 1s 184ms/step - loss: 0.0051\n",
            "Epoch 78/100\n",
            "4/4 [==============================] - 1s 187ms/step - loss: 0.0049\n",
            "Epoch 79/100\n",
            "4/4 [==============================] - 1s 186ms/step - loss: 0.0045\n",
            "Epoch 80/100\n",
            "4/4 [==============================] - 1s 188ms/step - loss: 0.0035\n",
            "Epoch 81/100\n",
            "4/4 [==============================] - 1s 185ms/step - loss: 0.0044\n",
            "Epoch 82/100\n",
            "4/4 [==============================] - 1s 189ms/step - loss: 0.0042\n",
            "Epoch 83/100\n",
            "4/4 [==============================] - 1s 189ms/step - loss: 0.0053\n",
            "Epoch 84/100\n",
            "4/4 [==============================] - 1s 189ms/step - loss: 0.0053\n",
            "Epoch 85/100\n",
            "4/4 [==============================] - 1s 187ms/step - loss: 0.0041\n",
            "Epoch 86/100\n",
            "4/4 [==============================] - 1s 191ms/step - loss: 0.0035\n",
            "Epoch 87/100\n",
            "4/4 [==============================] - 1s 190ms/step - loss: 0.0046\n",
            "Epoch 88/100\n",
            "4/4 [==============================] - 1s 188ms/step - loss: 0.0039\n",
            "Epoch 89/100\n",
            "4/4 [==============================] - 1s 186ms/step - loss: 0.0043\n",
            "Epoch 90/100\n",
            "4/4 [==============================] - 1s 187ms/step - loss: 0.0048\n",
            "Epoch 91/100\n",
            "4/4 [==============================] - 1s 190ms/step - loss: 0.0038\n",
            "Epoch 92/100\n",
            "4/4 [==============================] - 1s 190ms/step - loss: 0.0038\n",
            "Epoch 93/100\n",
            "4/4 [==============================] - 1s 188ms/step - loss: 0.0035\n",
            "Epoch 94/100\n",
            "4/4 [==============================] - 1s 184ms/step - loss: 0.0044\n",
            "Epoch 95/100\n",
            "4/4 [==============================] - 1s 198ms/step - loss: 0.0034\n",
            "Epoch 96/100\n",
            "4/4 [==============================] - 1s 191ms/step - loss: 0.0047\n",
            "Epoch 97/100\n",
            "4/4 [==============================] - 1s 188ms/step - loss: 0.0047\n",
            "Epoch 98/100\n",
            "4/4 [==============================] - 1s 186ms/step - loss: 0.0045\n",
            "Epoch 99/100\n",
            "4/4 [==============================] - 1s 189ms/step - loss: 0.0037\n",
            "Epoch 100/100\n",
            "4/4 [==============================] - 1s 191ms/step - loss: 0.0035\n"
          ],
          "name": "stdout"
        }
      ]
    },
    {
      "cell_type": "code",
      "metadata": {
        "colab": {
          "base_uri": "https://localhost:8080/",
          "height": 295
        },
        "id": "yUQTPzOmTq_U",
        "outputId": "21184439-775f-439a-b2cc-c88ac4639f53"
      },
      "source": [
        "plt.plot(history.history['loss'])\r\n",
        "plt.title('model loss')\r\n",
        "plt.ylabel('loss')\r\n",
        "plt.xlabel('epoch')\r\n",
        "plt.show()"
      ],
      "execution_count": null,
      "outputs": [
        {
          "output_type": "display_data",
          "data": {
            "image/png": "[encoded data removed]",
            "text/plain": [
              "<Figure size 432x288 with 1 Axes>"
            ]
          },
          "metadata": {
            "tags": [],
            "needs_background": "light"
          }
        }
      ]
    },
    {
      "cell_type": "code",
      "metadata": {
        "colab": {
          "base_uri": "https://localhost:8080/"
        },
        "id": "BVc1xcOlPXD7",
        "outputId": "ea31687e-9f6f-4ef4-93d5-e8fb8ee63a6a"
      },
      "source": [
        "dataset_test = df.iloc[172:, 1:2]\r\n",
        "dataset_test.shape"
      ],
      "execution_count": null,
      "outputs": [
        {
          "output_type": "execute_result",
          "data": {
            "text/plain": [
              "(58, 1)"
            ]
          },
          "metadata": {
            "tags": []
          },
          "execution_count": 39
        }
      ]
    },
    {
      "cell_type": "markdown",
      "metadata": {
        "id": "Ttoi2_LYl0d5"
      },
      "source": [
        "**4.d) Testing the Bidirectional LSTM**"
      ]
    },
    {
      "cell_type": "code",
      "metadata": {
        "colab": {
          "base_uri": "https://localhost:8080/"
        },
        "id": "AUJrjhF4Pbs7",
        "outputId": "53665eb4-3e84-419f-af83-3e30ef875f4f"
      },
      "source": [
        "# Getting the predicted stock price of 2017\r\n",
        "dataset_train = df.iloc[:172, 1:2]\r\n",
        "dataset_test = df.iloc[172:, 1:2]\r\n",
        "dataset_total = pd.concat((dataset_train, dataset_test), axis = 0)\r\n",
        "inputs = dataset_total[len(dataset_total) - len(dataset_test) - 60:].values\r\n",
        "inputs = inputs.reshape(-1,1)\r\n",
        "inputs = sc.transform(inputs)\r\n",
        "X_test = []\r\n",
        "for i in range(60, 118):\r\n",
        "    X_test.append(inputs[i-60:i, 0])\r\n",
        "X_test = np.array(X_test)\r\n",
        "X_test = np.reshape(X_test, (X_test.shape[0], X_test.shape[1], 1))\r\n",
        "print(X_test.shape)\r\n"
      ],
      "execution_count": null,
      "outputs": [
        {
          "output_type": "stream",
          "text": [
            "(58, 60, 1)\n"
          ],
          "name": "stdout"
        }
      ]
    },
    {
      "cell_type": "code",
      "metadata": {
        "id": "HTKSNPVRPdZp"
      },
      "source": [
        "predicted_stock_price = model.predict(X_test)\r\n",
        "predicted_stock_price = sc.inverse_transform(predicted_stock_price)"
      ],
      "execution_count": null,
      "outputs": []
    },
    {
      "cell_type": "code",
      "metadata": {
        "id": "39OFQD_DPfM8"
      },
      "source": [
        "true_y=dataset_test.values"
      ],
      "execution_count": null,
      "outputs": []
    },
    {
      "cell_type": "markdown",
      "metadata": {
        "id": "V4ivAizMl7RW"
      },
      "source": [
        "**4.e) Visualization of Orginal and Predicted Stock Prices**"
      ]
    },
    {
      "cell_type": "code",
      "metadata": {
        "colab": {
          "base_uri": "https://localhost:8080/",
          "height": 312
        },
        "id": "amnZqhgCPh5T",
        "outputId": "feb39138-674f-460c-8ab2-79103eab3f6a"
      },
      "source": [
        "\r\n",
        "plt.xlim([0, 50])\r\n",
        "plt.ylim([1400, 1800])\r\n",
        "plt.plot(predicted_stock_price, label='Predicted')\r\n",
        "plt.plot(true_y, label='Orginal')\r\n",
        "plt.xlabel('The Date of the Stock Market')\r\n",
        "plt.ylabel('The Price of the Stock')\r\n",
        "plt.title('The Visualization of Orginal and Predicted Stock Prices')\r\n",
        "plt.legend()\r\n"
      ],
      "execution_count": null,
      "outputs": [
        {
          "output_type": "execute_result",
          "data": {
            "text/plain": [
              "<matplotlib.legend.Legend at 0x7f8d642756a0>"
            ]
          },
          "metadata": {
            "tags": []
          },
          "execution_count": 43
        },
        {
          "output_type": "display_data",
          "data": {
            "image/png": "[encoded data removed]",
            "text/plain": [
              "<Figure size 432x288 with 1 Axes>"
            ]
          },
          "metadata": {
            "tags": [],
            "needs_background": "light"
          }
        }
      ]
    },
    {
      "cell_type": "code",
      "metadata": {
        "colab": {
          "base_uri": "https://localhost:8080/"
        },
        "id": "cZMrQXC9PrIc",
        "outputId": "68d79d9e-1ac1-464c-afb1-f975f96bd510"
      },
      "source": [
        "predicted_stock_price.shape"
      ],
      "execution_count": null,
      "outputs": [
        {
          "output_type": "execute_result",
          "data": {
            "text/plain": [
              "(58, 1)"
            ]
          },
          "metadata": {
            "tags": []
          },
          "execution_count": 44
        }
      ]
    },
    {
      "cell_type": "code",
      "metadata": {
        "colab": {
          "base_uri": "https://localhost:8080/"
        },
        "id": "yOSYNzLpPtjj",
        "outputId": "a5147fd0-0002-4fe6-a754-a55b6b9fc656"
      },
      "source": [
        "true_y.shape"
      ],
      "execution_count": null,
      "outputs": [
        {
          "output_type": "execute_result",
          "data": {
            "text/plain": [
              "(58, 1)"
            ]
          },
          "metadata": {
            "tags": []
          },
          "execution_count": 45
        }
      ]
    },
    {
      "cell_type": "markdown",
      "metadata": {
        "id": "c-dOm4KlmDfK"
      },
      "source": [
        "**4.f) Performance Analysis of Bidirectional LSTM Algorithm**"
      ]
    },
    {
      "cell_type": "code",
      "metadata": {
        "id": "Ho8Tq4eUPv2k",
        "colab": {
          "base_uri": "https://localhost:8080/"
        },
        "outputId": "23316ec7-cb9e-4680-cc90-2f6091ee8e64"
      },
      "source": [
        "import math\r\n",
        "from sklearn.metrics import mean_squared_error\r\n",
        "error=math.sqrt(mean_squared_error(predicted_stock_price,true_y))\r\n",
        "error"
      ],
      "execution_count": null,
      "outputs": [
        {
          "output_type": "execute_result",
          "data": {
            "text/plain": [
              "61.65456132174802"
            ]
          },
          "metadata": {
            "tags": []
          },
          "execution_count": 52
        }
      ]
    }
  ]
}
